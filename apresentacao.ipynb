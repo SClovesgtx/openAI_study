{
 "cells": [
  {
   "cell_type": "markdown",
   "id": "a499e10f",
   "metadata": {},
   "source": [
    "- 1.0 - Quem é a openAI\n",
    "    - Sobre a empresa\n",
    "    - Relações com Elon Musk e Microsoft\n",
    "    - Produtos\n",
    "- 3.0 - Como o \"cérebro\" do chatGPT funciona?\n",
    "- 4.0 - Oportunidades\n",
    "    - 4.1 - Modelos\n",
    "    - 4.2 - Ideias de uso"
   ]
  },
  {
   "cell_type": "markdown",
   "id": "392eca69",
   "metadata": {},
   "source": [
    "# 1.0 - Quem é a openAI?\n",
    "\n",
    "## 1.1 - Sobre a empresa\n",
    "\n",
    "A empresa se identifica como uma organização de pesquisa em inteligência artificial e embora a OpenAI tenha lançado alguns produtos a empresa está mais focada em pesquisa e desenvolvimento de tecnologias de IA em geral.\n",
    "\n",
    "Fundadores são empresários e pesquisadores de tecnologia, incluindo [Elon Musk](https://pt.wikipedia.org/wiki/Elon_Musk) (empresário), [Sam Altman](https://en.wikipedia.org/wiki/Sam_Altman) (empresário), [Greg Brockman](https://gregbrockman.com/) (pesquisador), [Ilya Sutskever](https://en.wikipedia.org/wiki/Ilya_Sutskever)(pesquisador) e outros."
   ]
  },
  {
   "cell_type": "markdown",
   "id": "1d3efc1f",
   "metadata": {},
   "source": [
    "## 1.2 - Relações com Elon Musk e Microsoft\n",
    "\n",
    "Segundo esta fonte [aqui](https://olhardigital.com.br/2023/03/24/pro/elon-musk-tentou-assumir-a-openai-falhou-e-descumpriu-promessa-de-investimento/), no início de 2018, Musk expressou preocupação de que a empresa estava ficando para trás de rivais como o Google na área de inteligência artificial, a solução oferecida por ele foi assumir o controle da OpenAi sozinho, a oferta foi rejeitada pelos outros fundadores e então Elon Musk saiu da empresa no mesmo ano, citando como justificativa conflito de interesses com o seu trabalho na Tesla.\n",
    "\n",
    "A empresa ficou sem grana até que apareceu a Microsoft aproveitando a oportunidade para financiar os projetos da OpenAI e garantir licenças para usar o IA desenvolvido em seus produtos (novo [Bing](https://www.bing.com/) e [Copilot](https://blogs.microsoft.com/blog/2023/03/16/introducing-microsoft-365-copilot-your-copilot-for-work/)).\n",
    "\n",
    "Elon Musk não gostou muito disso e chegou a colocar no twitter que a OpenAi “se tornou uma empresa de código fechado” focada em “lucro máximo” e “efetivamente controlada pela Microsoft”.\n",
    "\n",
    "O espertinho pede pausa de apenas 6 meses no desenvolvimento da IA (leia a matéria [aqui](https://www.techtudo.com.br/noticias/2023/03/inteligencia-artificial-tudo-sobre-a-carta-aberta-assinada-por-elon-musk-edsoftwares.ghtml)). Mas segundo os boatos ele pode estar planejando o seu próprio ChatGPT e competir diretamente com o ChatGPT"
   ]
  },
  {
   "cell_type": "markdown",
   "id": "2f915507",
   "metadata": {},
   "source": [
    "## 1.3 - Produtos\n",
    "\n",
    "### 1.3.1 -  [DALL·E](https://openai.com/product/dall-e-2)\n",
    "\n",
    "É um modelo de inteligência artificial desenvolvido pela OpenAI que gera imagens a partir de descrições textuais. \n",
    "\n",
    "O nome DALL·E é uma referência ao artista surrealista [Salvador Dali](https://pt.wikipedia.org/wiki/Salvador_Dal%C3%AD) e ao personagem de animação [WALL·E](https://pt.wikipedia.org/wiki/WALL-E).\n",
    "\n",
    "O DALL·E foi treinado em um grande conjunto de dados que inclui imagens e suas descrições correspondentes. A partir dessas informações, o modelo é capaz de gerar imagens realistas que correspondem às descrições dadas. O modelo é capaz de criar imagens de objetos, animais, paisagens e até mesmo cenas surreais que não existem na realidade."
   ]
  },
  {
   "cell_type": "code",
   "execution_count": null,
   "id": "11fa2707",
   "metadata": {},
   "outputs": [],
   "source": [
    "import os\n",
    "import openai\n",
    "\n",
    "openai.api_key = os.getenv(\"API_KEY\")"
   ]
  },
  {
   "cell_type": "code",
   "execution_count": 9,
   "id": "b2d37928",
   "metadata": {},
   "outputs": [
    {
     "data": {
      "text/plain": [
       "'https://oaidalleapiprodscus.blob.core.windows.net/private/org-8OQ1cCRSSv0JBmMYFHcImXb7/user-wfObYe6EuRPlAi4K0Cuz48x3/img-nfQo61jo02Rm3hEdF4f4KPVV.png?st=2023-04-06T19%3A01%3A14Z&se=2023-04-06T21%3A01%3A14Z&sp=r&sv=2021-08-06&sr=b&rscd=inline&rsct=image/png&skoid=6aaadede-4fb3-4698-a8f6-684d7786b067&sktid=a48cca56-e6da-484e-a814-9c849652bcb3&skt=2023-04-06T12%3A45%3A35Z&ske=2023-04-07T12%3A45%3A35Z&sks=b&skv=2021-08-06&sig=uMDPK7CSbUI0EvzTGJpqUkn/9Z3/OrWDfhqTj8xT3Bc%3D'"
      ]
     },
     "execution_count": 9,
     "metadata": {},
     "output_type": "execute_result"
    }
   ],
   "source": [
    "response = openai.Image.create(\n",
    "  prompt=\"A pig flying with unicorn horns and smoking marijuana\",\n",
    "  n=1,\n",
    "  size=\"1024x1024\"\n",
    ")\n",
    "image_url = response['data'][0]['url']\n",
    "image_url"
   ]
  },
  {
   "cell_type": "markdown",
   "id": "01540076",
   "metadata": {},
   "source": [
    "![](imgs/porco-fumando-maconha.png)"
   ]
  },
  {
   "cell_type": "markdown",
   "id": "d815910b",
   "metadata": {},
   "source": [
    "### 1.3.2 - [Whisper](https://openai.com/research/whisper)\n",
    "\n",
    "É um modelo de reconhecimento automático de fala treinado em 680.000 horas de dados supervisionados multilíngues e multitarefas coletados na web. \n",
    "\n",
    "Este modelo lida bem com sotaques, ruído de fundo e linguagem técnica. "
   ]
  },
  {
   "cell_type": "code",
   "execution_count": 16,
   "id": "ba14b898",
   "metadata": {},
   "outputs": [
    {
     "data": {
      "text/plain": [
       "'Oi, eu gostaria de falar que tem um vassamento aqui na CETAI, como eu faço?'"
      ]
     },
     "execution_count": 16,
     "metadata": {},
     "output_type": "execute_result"
    }
   ],
   "source": [
    "# audio_name = \"sotaque-cloves\"\n",
    "audio_name = \"colono-alemão\"\n",
    "# audio_name = \"baiano\"\n",
    "# audio_name = \"mineiro\"\n",
    "\n",
    "prompt = \"A transcrição são audio de pessoas que estão reportando um vazamento de água de uma \\\n",
    "adutora da empresa CEDAE.\"\n",
    "\n",
    "audio_file = open(f\"audios/{audio_name}.mp3\", \"rb\")\n",
    "\n",
    "transcript = openai.Audio.transcribe(model=\"whisper-1\", file=audio_file) #, prompt=prompt)\n",
    "transcript[\"text\"]"
   ]
  },
  {
   "cell_type": "markdown",
   "id": "b01d085e",
   "metadata": {},
   "source": [
    "### 1.3.3 - [Moderation](https://platform.openai.com/docs/guides/moderation/overview) (apenas em inglês)\n",
    "\n",
    "Os modelos fornecem capacidades de classificação que procuram conteúdo nas seguintes categorias: ódio, ódio/ameaças, auto-mutilação, sexual, sexual/menores, violência e violência/gráfico"
   ]
  },
  {
   "cell_type": "code",
   "execution_count": 2,
   "id": "aee9da74",
   "metadata": {},
   "outputs": [],
   "source": [
    "import os\n",
    "import openai\n",
    "\n",
    "openai.api_key = os.getenv(\"API_KEY\")"
   ]
  },
  {
   "cell_type": "code",
   "execution_count": 8,
   "id": "054a3f39",
   "metadata": {},
   "outputs": [
    {
     "data": {
      "text/plain": [
       "<OpenAIObject at 0x7f967b87ac50> JSON: {\n",
       "  \"categories\": {\n",
       "    \"hate\": false,\n",
       "    \"hate/threatening\": false,\n",
       "    \"self-harm\": false,\n",
       "    \"sexual\": false,\n",
       "    \"sexual/minors\": false,\n",
       "    \"violence\": true,\n",
       "    \"violence/graphic\": false\n",
       "  },\n",
       "  \"category_scores\": {\n",
       "    \"hate\": 0.0006555579020641744,\n",
       "    \"hate/threatening\": 0.0001566615974297747,\n",
       "    \"self-harm\": 3.551872040929993e-08,\n",
       "    \"sexual\": 0.0005339246126823127,\n",
       "    \"sexual/minors\": 4.537509923352445e-08,\n",
       "    \"violence\": 0.9994120597839355,\n",
       "    \"violence/graphic\": 5.163837340660393e-05\n",
       "  },\n",
       "  \"flagged\": true\n",
       "}"
      ]
     },
     "execution_count": 8,
     "metadata": {},
     "output_type": "execute_result"
    }
   ],
   "source": [
    "response = openai.Moderation.create(\n",
    "    input=\"i will kill you bitch\"\n",
    ")\n",
    "output = response[\"results\"][0]\n",
    "output"
   ]
  },
  {
   "cell_type": "code",
   "execution_count": null,
   "id": "905cd332",
   "metadata": {},
   "outputs": [],
   "source": []
  }
 ],
 "metadata": {
  "kernelspec": {
   "display_name": "Python 3 (ipykernel)",
   "language": "python",
   "name": "python3"
  },
  "language_info": {
   "codemirror_mode": {
    "name": "ipython",
    "version": 3
   },
   "file_extension": ".py",
   "mimetype": "text/x-python",
   "name": "python",
   "nbconvert_exporter": "python",
   "pygments_lexer": "ipython3",
   "version": "3.10.6"
  }
 },
 "nbformat": 4,
 "nbformat_minor": 5
}
